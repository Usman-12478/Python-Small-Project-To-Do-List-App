{
 "cells": [
  {
   "cell_type": "markdown",
   "id": "02108415",
   "metadata": {
    "papermill": {
     "duration": 0.008783,
     "end_time": "2024-10-03T12:39:54.028358",
     "exception": false,
     "start_time": "2024-10-03T12:39:54.019575",
     "status": "completed"
    },
    "tags": []
   },
   "source": [
    "# Add Task:"
   ]
  },
  {
   "cell_type": "code",
   "execution_count": 1,
   "id": "fd5c97eb",
   "metadata": {
    "execution": {
     "iopub.execute_input": "2024-10-03T12:39:54.046726Z",
     "iopub.status.busy": "2024-10-03T12:39:54.046184Z",
     "iopub.status.idle": "2024-10-03T12:39:54.059049Z",
     "shell.execute_reply": "2024-10-03T12:39:54.058003Z"
    },
    "papermill": {
     "duration": 0.025045,
     "end_time": "2024-10-03T12:39:54.061644",
     "exception": false,
     "start_time": "2024-10-03T12:39:54.036599",
     "status": "completed"
    },
    "tags": []
   },
   "outputs": [],
   "source": [
    "tasks = []\n",
    "def add_task(task):\n",
    "    tasks.append(task)\n",
    "    print(f\"Task {task} Added!\")"
   ]
  },
  {
   "cell_type": "markdown",
   "id": "7c3b6fa1",
   "metadata": {
    "papermill": {
     "duration": 0.007974,
     "end_time": "2024-10-03T12:39:54.077882",
     "exception": false,
     "start_time": "2024-10-03T12:39:54.069908",
     "status": "completed"
    },
    "tags": []
   },
   "source": [
    "# View Task:"
   ]
  },
  {
   "cell_type": "code",
   "execution_count": 2,
   "id": "ebba899b",
   "metadata": {
    "execution": {
     "iopub.execute_input": "2024-10-03T12:39:54.095869Z",
     "iopub.status.busy": "2024-10-03T12:39:54.095478Z",
     "iopub.status.idle": "2024-10-03T12:39:54.100879Z",
     "shell.execute_reply": "2024-10-03T12:39:54.099640Z"
    },
    "papermill": {
     "duration": 0.017174,
     "end_time": "2024-10-03T12:39:54.103308",
     "exception": false,
     "start_time": "2024-10-03T12:39:54.086134",
     "status": "completed"
    },
    "tags": []
   },
   "outputs": [],
   "source": [
    "def view_task():\n",
    "    print('Current Tasks:')\n",
    "    for i, task in enumerate(tasks, 1):\n",
    "        print(f\"{i}. {task}\")"
   ]
  },
  {
   "cell_type": "markdown",
   "id": "9f0bcb81",
   "metadata": {
    "papermill": {
     "duration": 0.008442,
     "end_time": "2024-10-03T12:39:54.119802",
     "exception": false,
     "start_time": "2024-10-03T12:39:54.111360",
     "status": "completed"
    },
    "tags": []
   },
   "source": [
    "# Delete Task:"
   ]
  },
  {
   "cell_type": "code",
   "execution_count": 3,
   "id": "f75859fd",
   "metadata": {
    "execution": {
     "iopub.execute_input": "2024-10-03T12:39:54.140545Z",
     "iopub.status.busy": "2024-10-03T12:39:54.140122Z",
     "iopub.status.idle": "2024-10-03T12:39:54.145704Z",
     "shell.execute_reply": "2024-10-03T12:39:54.144679Z"
    },
    "papermill": {
     "duration": 0.019788,
     "end_time": "2024-10-03T12:39:54.148054",
     "exception": false,
     "start_time": "2024-10-03T12:39:54.128266",
     "status": "completed"
    },
    "tags": []
   },
   "outputs": [],
   "source": [
    "def delete_task(task_number):\n",
    "    try:\n",
    "        del tasks[task_number - 1]\n",
    "        print(f\"Task {task_number} have been deleted\")\n",
    "    except IndexError:\n",
    "        print(\"Invalid Number!\")"
   ]
  },
  {
   "cell_type": "markdown",
   "id": "9735a4f1",
   "metadata": {
    "papermill": {
     "duration": 0.00771,
     "end_time": "2024-10-03T12:39:54.164665",
     "exception": false,
     "start_time": "2024-10-03T12:39:54.156955",
     "status": "completed"
    },
    "tags": []
   },
   "source": [
    "# Edit Task:"
   ]
  },
  {
   "cell_type": "code",
   "execution_count": 4,
   "id": "74e35b0b",
   "metadata": {
    "execution": {
     "iopub.execute_input": "2024-10-03T12:39:54.182456Z",
     "iopub.status.busy": "2024-10-03T12:39:54.181994Z",
     "iopub.status.idle": "2024-10-03T12:39:54.187935Z",
     "shell.execute_reply": "2024-10-03T12:39:54.186736Z"
    },
    "papermill": {
     "duration": 0.017641,
     "end_time": "2024-10-03T12:39:54.190330",
     "exception": false,
     "start_time": "2024-10-03T12:39:54.172689",
     "status": "completed"
    },
    "tags": []
   },
   "outputs": [],
   "source": [
    "def edit_task(task_number, new_task):\n",
    "    try:\n",
    "        tasks[task_number - 1] = new_task\n",
    "        print(f\"Task {task_number} added!\")\n",
    "    except IndexError:\n",
    "        print('Invalid Task Number!')\n",
    "       "
   ]
  },
  {
   "cell_type": "markdown",
   "id": "49e48394",
   "metadata": {
    "papermill": {
     "duration": 0.007724,
     "end_time": "2024-10-03T12:39:54.206136",
     "exception": false,
     "start_time": "2024-10-03T12:39:54.198412",
     "status": "completed"
    },
    "tags": []
   },
   "source": [
    "# Complete Task:"
   ]
  },
  {
   "cell_type": "code",
   "execution_count": 5,
   "id": "8b64b853",
   "metadata": {
    "execution": {
     "iopub.execute_input": "2024-10-03T12:39:54.224258Z",
     "iopub.status.busy": "2024-10-03T12:39:54.223420Z",
     "iopub.status.idle": "2024-10-03T12:39:54.228315Z",
     "shell.execute_reply": "2024-10-03T12:39:54.227210Z"
    },
    "papermill": {
     "duration": 0.016537,
     "end_time": "2024-10-03T12:39:54.230737",
     "exception": false,
     "start_time": "2024-10-03T12:39:54.214200",
     "status": "completed"
    },
    "tags": []
   },
   "outputs": [],
   "source": [
    "completed_tasks = []"
   ]
  },
  {
   "cell_type": "code",
   "execution_count": 6,
   "id": "bddd1734",
   "metadata": {
    "execution": {
     "iopub.execute_input": "2024-10-03T12:39:54.248792Z",
     "iopub.status.busy": "2024-10-03T12:39:54.248056Z",
     "iopub.status.idle": "2024-10-03T12:39:54.254085Z",
     "shell.execute_reply": "2024-10-03T12:39:54.252970Z"
    },
    "papermill": {
     "duration": 0.017774,
     "end_time": "2024-10-03T12:39:54.256531",
     "exception": false,
     "start_time": "2024-10-03T12:39:54.238757",
     "status": "completed"
    },
    "tags": []
   },
   "outputs": [],
   "source": [
    "def complete_task(task_number):\n",
    "    try:\n",
    "        task = tasks.pop(task_number - 1)\n",
    "        print(f\"Task {task} Marked As Completed\")\n",
    "        completed_tasks.append(task)\n",
    "    except IndexError:\n",
    "        print('Invald Task Number')"
   ]
  },
  {
   "cell_type": "code",
   "execution_count": null,
   "id": "fd30a68f",
   "metadata": {
    "papermill": {
     "duration": 0.007679,
     "end_time": "2024-10-03T12:39:54.272377",
     "exception": false,
     "start_time": "2024-10-03T12:39:54.264698",
     "status": "completed"
    },
    "tags": []
   },
   "outputs": [],
   "source": []
  },
  {
   "cell_type": "markdown",
   "id": "ff067afc",
   "metadata": {
    "papermill": {
     "duration": 0.00773,
     "end_time": "2024-10-03T12:39:54.288517",
     "exception": false,
     "start_time": "2024-10-03T12:39:54.280787",
     "status": "completed"
    },
    "tags": []
   },
   "source": [
    "# Set Priority:"
   ]
  },
  {
   "cell_type": "code",
   "execution_count": 7,
   "id": "50431f29",
   "metadata": {
    "execution": {
     "iopub.execute_input": "2024-10-03T12:39:54.306400Z",
     "iopub.status.busy": "2024-10-03T12:39:54.305974Z",
     "iopub.status.idle": "2024-10-03T12:39:54.312182Z",
     "shell.execute_reply": "2024-10-03T12:39:54.310897Z"
    },
    "papermill": {
     "duration": 0.017941,
     "end_time": "2024-10-03T12:39:54.314584",
     "exception": false,
     "start_time": "2024-10-03T12:39:54.296643",
     "status": "completed"
    },
    "tags": []
   },
   "outputs": [],
   "source": [
    "def set_priority(task_number, priority):\n",
    "    try:\n",
    "        task = tasks[task_number - 1]\n",
    "        tasks[task_number - 1] = f\"[{priority}] {task}\"\n",
    "        print(f\"Priority set for the task {task_number}\")\n",
    "    except IndexError:\n",
    "        print('Invalid Task Number!')"
   ]
  },
  {
   "cell_type": "code",
   "execution_count": 8,
   "id": "e8350566",
   "metadata": {
    "execution": {
     "iopub.execute_input": "2024-10-03T12:39:54.332251Z",
     "iopub.status.busy": "2024-10-03T12:39:54.331846Z",
     "iopub.status.idle": "2024-10-03T12:39:54.337158Z",
     "shell.execute_reply": "2024-10-03T12:39:54.336098Z"
    },
    "papermill": {
     "duration": 0.016899,
     "end_time": "2024-10-03T12:39:54.339598",
     "exception": false,
     "start_time": "2024-10-03T12:39:54.322699",
     "status": "completed"
    },
    "tags": []
   },
   "outputs": [],
   "source": [
    "def delete_all_tasks():\n",
    "    global tasks\n",
    "    tasks = []\n",
    "    print('All tasks have been deleted!')"
   ]
  },
  {
   "cell_type": "code",
   "execution_count": 9,
   "id": "5616a7e8",
   "metadata": {
    "execution": {
     "iopub.execute_input": "2024-10-03T12:39:54.357900Z",
     "iopub.status.busy": "2024-10-03T12:39:54.357472Z",
     "iopub.status.idle": "2024-10-03T12:39:54.363519Z",
     "shell.execute_reply": "2024-10-03T12:39:54.362487Z"
    },
    "papermill": {
     "duration": 0.018067,
     "end_time": "2024-10-03T12:39:54.366128",
     "exception": false,
     "start_time": "2024-10-03T12:39:54.348061",
     "status": "completed"
    },
    "tags": []
   },
   "outputs": [
    {
     "name": "stdout",
     "output_type": "stream",
     "text": [
      "Task Go to walk Added!\n",
      "Task Buy some groceries Added!\n",
      "Task Do Assignment Added!\n",
      "Task Press Clothes Added!\n"
     ]
    }
   ],
   "source": [
    "add_task('Go to walk')\n",
    "add_task('Buy some groceries')\n",
    "add_task('Do Assignment')\n",
    "add_task('Press Clothes')\n"
   ]
  },
  {
   "cell_type": "markdown",
   "id": "d53e3ecf",
   "metadata": {
    "papermill": {
     "duration": 0.007874,
     "end_time": "2024-10-03T12:39:54.382316",
     "exception": false,
     "start_time": "2024-10-03T12:39:54.374442",
     "status": "completed"
    },
    "tags": []
   },
   "source": [
    "# Let See Results:"
   ]
  },
  {
   "cell_type": "code",
   "execution_count": 10,
   "id": "0fd719c8",
   "metadata": {
    "execution": {
     "iopub.execute_input": "2024-10-03T12:39:54.400626Z",
     "iopub.status.busy": "2024-10-03T12:39:54.400206Z",
     "iopub.status.idle": "2024-10-03T12:39:54.405776Z",
     "shell.execute_reply": "2024-10-03T12:39:54.404724Z"
    },
    "papermill": {
     "duration": 0.017457,
     "end_time": "2024-10-03T12:39:54.408138",
     "exception": false,
     "start_time": "2024-10-03T12:39:54.390681",
     "status": "completed"
    },
    "tags": []
   },
   "outputs": [
    {
     "name": "stdout",
     "output_type": "stream",
     "text": [
      "Current Tasks:\n",
      "1. Go to walk\n",
      "2. Buy some groceries\n",
      "3. Do Assignment\n",
      "4. Press Clothes\n"
     ]
    }
   ],
   "source": [
    "view_task()"
   ]
  },
  {
   "cell_type": "code",
   "execution_count": 11,
   "id": "542df3e1",
   "metadata": {
    "execution": {
     "iopub.execute_input": "2024-10-03T12:39:54.426836Z",
     "iopub.status.busy": "2024-10-03T12:39:54.426114Z",
     "iopub.status.idle": "2024-10-03T12:39:54.431703Z",
     "shell.execute_reply": "2024-10-03T12:39:54.430614Z"
    },
    "papermill": {
     "duration": 0.017953,
     "end_time": "2024-10-03T12:39:54.434512",
     "exception": false,
     "start_time": "2024-10-03T12:39:54.416559",
     "status": "completed"
    },
    "tags": []
   },
   "outputs": [
    {
     "name": "stdout",
     "output_type": "stream",
     "text": [
      "Task 1 added!\n"
     ]
    }
   ],
   "source": [
    "edit_task(1, 'Go for jogging')"
   ]
  },
  {
   "cell_type": "code",
   "execution_count": 12,
   "id": "cfba0fc4",
   "metadata": {
    "execution": {
     "iopub.execute_input": "2024-10-03T12:39:54.454710Z",
     "iopub.status.busy": "2024-10-03T12:39:54.454315Z",
     "iopub.status.idle": "2024-10-03T12:39:54.460028Z",
     "shell.execute_reply": "2024-10-03T12:39:54.458949Z"
    },
    "papermill": {
     "duration": 0.018135,
     "end_time": "2024-10-03T12:39:54.462604",
     "exception": false,
     "start_time": "2024-10-03T12:39:54.444469",
     "status": "completed"
    },
    "tags": []
   },
   "outputs": [
    {
     "name": "stdout",
     "output_type": "stream",
     "text": [
      "Current Tasks:\n",
      "1. Go for jogging\n",
      "2. Buy some groceries\n",
      "3. Do Assignment\n",
      "4. Press Clothes\n"
     ]
    }
   ],
   "source": [
    "view_task()"
   ]
  },
  {
   "cell_type": "code",
   "execution_count": 13,
   "id": "9ab8a713",
   "metadata": {
    "execution": {
     "iopub.execute_input": "2024-10-03T12:39:54.481824Z",
     "iopub.status.busy": "2024-10-03T12:39:54.480731Z",
     "iopub.status.idle": "2024-10-03T12:39:54.486852Z",
     "shell.execute_reply": "2024-10-03T12:39:54.485761Z"
    },
    "papermill": {
     "duration": 0.018048,
     "end_time": "2024-10-03T12:39:54.489075",
     "exception": false,
     "start_time": "2024-10-03T12:39:54.471027",
     "status": "completed"
    },
    "tags": []
   },
   "outputs": [
    {
     "name": "stdout",
     "output_type": "stream",
     "text": [
      "Task 2 have been deleted\n"
     ]
    }
   ],
   "source": [
    "delete_task(2)"
   ]
  },
  {
   "cell_type": "code",
   "execution_count": 14,
   "id": "677cf9aa",
   "metadata": {
    "execution": {
     "iopub.execute_input": "2024-10-03T12:39:54.508463Z",
     "iopub.status.busy": "2024-10-03T12:39:54.507483Z",
     "iopub.status.idle": "2024-10-03T12:39:54.513138Z",
     "shell.execute_reply": "2024-10-03T12:39:54.512082Z"
    },
    "papermill": {
     "duration": 0.017855,
     "end_time": "2024-10-03T12:39:54.515517",
     "exception": false,
     "start_time": "2024-10-03T12:39:54.497662",
     "status": "completed"
    },
    "tags": []
   },
   "outputs": [
    {
     "name": "stdout",
     "output_type": "stream",
     "text": [
      "Current Tasks:\n",
      "1. Go for jogging\n",
      "2. Do Assignment\n",
      "3. Press Clothes\n"
     ]
    }
   ],
   "source": [
    "view_task()"
   ]
  },
  {
   "cell_type": "code",
   "execution_count": 15,
   "id": "6e984159",
   "metadata": {
    "execution": {
     "iopub.execute_input": "2024-10-03T12:39:54.534691Z",
     "iopub.status.busy": "2024-10-03T12:39:54.533956Z",
     "iopub.status.idle": "2024-10-03T12:39:54.539901Z",
     "shell.execute_reply": "2024-10-03T12:39:54.538754Z"
    },
    "papermill": {
     "duration": 0.018058,
     "end_time": "2024-10-03T12:39:54.542203",
     "exception": false,
     "start_time": "2024-10-03T12:39:54.524145",
     "status": "completed"
    },
    "tags": []
   },
   "outputs": [
    {
     "name": "stdout",
     "output_type": "stream",
     "text": [
      "Priority set for the task 2\n"
     ]
    }
   ],
   "source": [
    "set_priority(2, 'Must Complete Before Mid-Night!')"
   ]
  },
  {
   "cell_type": "code",
   "execution_count": 16,
   "id": "4529eafc",
   "metadata": {
    "execution": {
     "iopub.execute_input": "2024-10-03T12:39:54.562278Z",
     "iopub.status.busy": "2024-10-03T12:39:54.561611Z",
     "iopub.status.idle": "2024-10-03T12:39:54.567085Z",
     "shell.execute_reply": "2024-10-03T12:39:54.566088Z"
    },
    "papermill": {
     "duration": 0.018195,
     "end_time": "2024-10-03T12:39:54.569312",
     "exception": false,
     "start_time": "2024-10-03T12:39:54.551117",
     "status": "completed"
    },
    "tags": []
   },
   "outputs": [
    {
     "name": "stdout",
     "output_type": "stream",
     "text": [
      "Current Tasks:\n",
      "1. Go for jogging\n",
      "2. [Must Complete Before Mid-Night!] Do Assignment\n",
      "3. Press Clothes\n"
     ]
    }
   ],
   "source": [
    "view_task()"
   ]
  },
  {
   "cell_type": "code",
   "execution_count": 17,
   "id": "601581ae",
   "metadata": {
    "execution": {
     "iopub.execute_input": "2024-10-03T12:39:54.589411Z",
     "iopub.status.busy": "2024-10-03T12:39:54.588491Z",
     "iopub.status.idle": "2024-10-03T12:39:54.593756Z",
     "shell.execute_reply": "2024-10-03T12:39:54.592797Z"
    },
    "papermill": {
     "duration": 0.01858,
     "end_time": "2024-10-03T12:39:54.596611",
     "exception": false,
     "start_time": "2024-10-03T12:39:54.578031",
     "status": "completed"
    },
    "tags": []
   },
   "outputs": [
    {
     "name": "stdout",
     "output_type": "stream",
     "text": [
      "All tasks have been deleted!\n"
     ]
    }
   ],
   "source": [
    "delete_all_tasks()"
   ]
  },
  {
   "cell_type": "code",
   "execution_count": 18,
   "id": "060bcec1",
   "metadata": {
    "execution": {
     "iopub.execute_input": "2024-10-03T12:39:54.616057Z",
     "iopub.status.busy": "2024-10-03T12:39:54.615669Z",
     "iopub.status.idle": "2024-10-03T12:39:54.621156Z",
     "shell.execute_reply": "2024-10-03T12:39:54.620078Z"
    },
    "papermill": {
     "duration": 0.018184,
     "end_time": "2024-10-03T12:39:54.623843",
     "exception": false,
     "start_time": "2024-10-03T12:39:54.605659",
     "status": "completed"
    },
    "tags": []
   },
   "outputs": [
    {
     "name": "stdout",
     "output_type": "stream",
     "text": [
      "Current Tasks:\n"
     ]
    }
   ],
   "source": [
    "view_task()"
   ]
  },
  {
   "cell_type": "code",
   "execution_count": null,
   "id": "d740f6de",
   "metadata": {
    "papermill": {
     "duration": 0.00875,
     "end_time": "2024-10-03T12:39:54.641563",
     "exception": false,
     "start_time": "2024-10-03T12:39:54.632813",
     "status": "completed"
    },
    "tags": []
   },
   "outputs": [],
   "source": []
  }
 ],
 "metadata": {
  "kaggle": {
   "accelerator": "none",
   "dataSources": [],
   "dockerImageVersionId": 30775,
   "isGpuEnabled": false,
   "isInternetEnabled": true,
   "language": "python",
   "sourceType": "notebook"
  },
  "kernelspec": {
   "display_name": "Python 3",
   "language": "python",
   "name": "python3"
  },
  "language_info": {
   "codemirror_mode": {
    "name": "ipython",
    "version": 3
   },
   "file_extension": ".py",
   "mimetype": "text/x-python",
   "name": "python",
   "nbconvert_exporter": "python",
   "pygments_lexer": "ipython3",
   "version": "3.10.14"
  },
  "papermill": {
   "default_parameters": {},
   "duration": 3.852583,
   "end_time": "2024-10-03T12:39:54.970486",
   "environment_variables": {},
   "exception": null,
   "input_path": "__notebook__.ipynb",
   "output_path": "__notebook__.ipynb",
   "parameters": {},
   "start_time": "2024-10-03T12:39:51.117903",
   "version": "2.6.0"
  }
 },
 "nbformat": 4,
 "nbformat_minor": 5
}
